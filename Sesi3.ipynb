{
  "nbformat": 4,
  "nbformat_minor": 0,
  "metadata": {
    "colab": {
      "provenance": [],
      "authorship_tag": "ABX9TyOittO5Nn6KfUXUhEAx0eyd",
      "include_colab_link": true
    },
    "kernelspec": {
      "name": "python3",
      "display_name": "Python 3"
    },
    "language_info": {
      "name": "python"
    }
  },
  "cells": [
    {
      "cell_type": "markdown",
      "metadata": {
        "id": "view-in-github",
        "colab_type": "text"
      },
      "source": [
        "<a href=\"https://colab.research.google.com/github/MHilmyHelsinky/pbo/blob/main/Sesi3.ipynb\" target=\"_parent\"><img src=\"https://colab.research.google.com/assets/colab-badge.svg\" alt=\"Open In Colab\"/></a>"
      ]
    },
    {
      "cell_type": "markdown",
      "source": [
        "Contoh sederhana perulangan for"
      ],
      "metadata": {
        "id": "fy1-i6Nabm5S"
      }
    },
    {
      "cell_type": "code",
      "execution_count": null,
      "metadata": {
        "id": "JJ7HBCWcbX-L"
      },
      "outputs": [],
      "source": [
        "# Deklarasi variabel contoh dan 10 itu sebagai tanda 10 kali perulangan\n",
        "contoh = 10\n",
        "\n",
        "# Variabel i berfungsi untuk menampung indeks,\n",
        "# dan fungsi range() berfungsi untuk membuat list dari 0-10.\n",
        "for i in range(contoh):\n",
        "    print (\"Perulangan ke-\" +str(i))"
      ]
    },
    {
      "cell_type": "code",
      "source": [
        "# Menampilkan range dari kumpulan deret tertentu\n",
        "# range(5,10) akan membuat deret angka mulai dari 5, 6, 7, 8, dan 9.\n",
        "\n",
        "for i in range(5,10):\n",
        "  print(i)"
      ],
      "metadata": {
        "id": "XH4pT25hb4EP"
      },
      "execution_count": null,
      "outputs": []
    },
    {
      "cell_type": "markdown",
      "source": [
        "**Contoh menampilkan isi dalam body perulangan**"
      ],
      "metadata": {
        "id": "Dmv0pNgycBB8"
      }
    },
    {
      "cell_type": "code",
      "source": [
        "# Deklarasi variabel contoh2 dengan tipe list\n",
        "contoh2 = ['saya','suka','minum','kopi', 'gayo']\n",
        "\n",
        "for isi in contoh2:\n",
        "    print (isi)"
      ],
      "metadata": {
        "id": "MrignaETcKfw"
      },
      "execution_count": null,
      "outputs": []
    },
    {
      "cell_type": "markdown",
      "source": [
        "**Contoh menggunakan while**"
      ],
      "metadata": {
        "id": "20jy2qMacRF7"
      }
    },
    {
      "cell_type": "code",
      "source": [
        "# Deklarasi variabel hit\n",
        "hit = 0\n",
        "# Membuat kondisi\n",
        "while (hit < 5):\n",
        "    print(hit, \"kurang dari 5\")\n",
        "    hit = hit + 1\n",
        "else:\n",
        "# Menampilkan output salam jika kondisi sudah terpenuhi\n",
        "    print(\"Salammmm\")"
      ],
      "metadata": {
        "id": "I7oDgx7fcWw7"
      },
      "execution_count": null,
      "outputs": []
    },
    {
      "cell_type": "markdown",
      "source": [
        "**Program Menghitung Harga Tiket Masuk**"
      ],
      "metadata": {
        "id": "JTB1SDnmcdC3"
      }
    },
    {
      "cell_type": "code",
      "source": [
        "##\n",
        "# Program menghitung Faktor Persekutuan Terbesa\n",
        "#\n",
        "\n",
        "# Membaca dua bilangan positif dari user\n",
        "n = int(input(\"Masukkan bilangan positif:\"))\n",
        "m = int(input(\"Masukkan bilangan positif:\"))\n",
        "\n",
        "# Inisialisasi variabel untuk nilai terkecil dari n dan m\n",
        "d = min(n, m)\n",
        "\n",
        "# Gunakan loop while untuk mencari FPT\n",
        "while n % d != 0 or m % d != 0:\n",
        "  d = d - 1\n",
        "\n",
        "# Menampilkan hasil\n",
        "print(\"Faktor persekutuan terbesar dari\", n, \"dan\", m, \" adalah\", d)\n",
        "\n"
      ],
      "metadata": {
        "id": "oRaJAQuScd85"
      },
      "execution_count": null,
      "outputs": []
    },
    {
      "cell_type": "markdown",
      "source": [
        "**Program Mencari Nilai Maksimum dari 100 bilangan bulat**"
      ],
      "metadata": {
        "id": "eeRDl2Jkciwu"
      }
    },
    {
      "cell_type": "code",
      "source": [
        "##\n",
        "# Menentukan nilai maksimum 100 bilangan bulat, menghitung berapa kali\n",
        "# perulangan\n",
        "\n",
        "from random import randrange\n",
        "\n",
        "BIL_ITEMS = 100\n",
        "\n",
        "# Generate the first number and menampilkan nya\n",
        "maks_nilai = randrange(1, BIL_ITEMS + 1)\n",
        "print(maks_nilai)\n",
        "\n",
        "# Menghitung berapa kali perubahan\n",
        "bil_update = 0\n",
        "\n",
        "# Untuk setiap bilangan\n",
        "for i in range(1, BIL_ITEMS):\n",
        "  # Generate bilangan acak\n",
        "  current = randrange(1, BIL_ITEMS + 1)\n",
        "\n",
        "  # Kondisi jika ditemukan bilangan terbesar\n",
        "  if current > maks_nilai:\n",
        "    # Update nilai maksimum dan hitung perubahan\n",
        "    maks_nilai = current\n",
        "    bil_update = bil_update + 1\n",
        "    # Tampilkan bilangan jika masih ada proses update\n",
        "    print(current, \"<== Update\")\n",
        "  else:\n",
        "    #Tampilkan bilangan\n",
        "    print(current)\n",
        "\n",
        "# Tampilkan Hasil Terakhir\n",
        "print(\" Nilai maksimum yang ditemukan adalah\", maks_nilai)\n",
        "print(\"Nilai maksimum yang di-update\", bil_update, \"kali\")"
      ],
      "metadata": {
        "id": "_Y3Pp3KtclyN"
      },
      "execution_count": null,
      "outputs": []
    }
  ]
}